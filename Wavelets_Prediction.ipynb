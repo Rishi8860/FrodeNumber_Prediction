{
 "cells": [
  {
   "cell_type": "markdown",
   "id": "60b288bd",
   "metadata": {},
   "source": [
    "# Importing the Libraries and the Data "
   ]
  },
  {
   "cell_type": "code",
   "execution_count": 1,
   "id": "58e57a8d",
   "metadata": {},
   "outputs": [],
   "source": [
    "import pandas as pd\n",
    "import numpy as np\n",
    "from sklearn.preprocessing import StandardScaler\n",
    "from tensorflow.keras.models import Sequential\n",
    "from tensorflow.keras.layers import Dense\n",
    "from sklearn.metrics import r2_score\n",
    "from tensorflow.keras.utils import plot_model"
   ]
  },
  {
   "cell_type": "code",
   "execution_count": 2,
   "id": "357fd363",
   "metadata": {},
   "outputs": [],
   "source": [
    "xls = pd.ExcelFile(r\"C:\\Users\\rishi\\Downloads\\kashmir.xlsx\")\n",
    "df1 = pd.read_excel(xls, 'dados')"
   ]
  },
  {
   "cell_type": "code",
   "execution_count": 3,
   "id": "07b90421",
   "metadata": {},
   "outputs": [],
   "source": [
    "df1=df1.fillna(value=0)"
   ]
  },
  {
   "cell_type": "code",
   "execution_count": 4,
   "id": "31b1fe84",
   "metadata": {},
   "outputs": [
    {
     "data": {
      "text/html": [
       "<div>\n",
       "<style scoped>\n",
       "    .dataframe tbody tr th:only-of-type {\n",
       "        vertical-align: middle;\n",
       "    }\n",
       "\n",
       "    .dataframe tbody tr th {\n",
       "        vertical-align: top;\n",
       "    }\n",
       "\n",
       "    .dataframe thead th {\n",
       "        text-align: right;\n",
       "    }\n",
       "</style>\n",
       "<table border=\"1\" class=\"dataframe\">\n",
       "  <thead>\n",
       "    <tr style=\"text-align: right;\">\n",
       "      <th></th>\n",
       "      <th>Unnamed: 0</th>\n",
       "      <th>Unnamed: 1</th>\n",
       "      <th>Unnamed: 2</th>\n",
       "      <th>Unnamed: 3</th>\n",
       "      <th>Unnamed: 4</th>\n",
       "      <th>Unnamed: 5</th>\n",
       "      <th>Unnamed: 6</th>\n",
       "      <th>Unnamed: 7</th>\n",
       "      <th>Unnamed: 8</th>\n",
       "      <th>Unnamed: 9</th>\n",
       "      <th>...</th>\n",
       "      <th>Unnamed: 14</th>\n",
       "      <th>Intermediate (PT15_303)</th>\n",
       "      <th>Unnamed: 16</th>\n",
       "      <th>Unnamed: 17</th>\n",
       "      <th>Unnamed: 18</th>\n",
       "      <th>Unnamed: 19</th>\n",
       "      <th>Ballast (PT12_304)</th>\n",
       "      <th>Unnamed: 21</th>\n",
       "      <th>Unnamed: 22</th>\n",
       "      <th>Unnamed: 23</th>\n",
       "    </tr>\n",
       "  </thead>\n",
       "  <tbody>\n",
       "    <tr>\n",
       "      <th>0</th>\n",
       "      <td>0.0</td>\n",
       "      <td>Full (PT18_307)</td>\n",
       "      <td>0.000000</td>\n",
       "      <td>0.0</td>\n",
       "      <td>Intermediate (PT15_303)</td>\n",
       "      <td>0.000000</td>\n",
       "      <td>0.0</td>\n",
       "      <td>Ballast (PT12_304)</td>\n",
       "      <td>0.000000</td>\n",
       "      <td>0.0</td>\n",
       "      <td>...</td>\n",
       "      <td>0.0</td>\n",
       "      <td>Log</td>\n",
       "      <td>0.000000</td>\n",
       "      <td>Froude</td>\n",
       "      <td>0.000000</td>\n",
       "      <td>0.0</td>\n",
       "      <td>Log</td>\n",
       "      <td>0.000000</td>\n",
       "      <td>Froude</td>\n",
       "      <td>0.000000</td>\n",
       "    </tr>\n",
       "    <tr>\n",
       "      <th>1</th>\n",
       "      <td>0.0</td>\n",
       "      <td>Filtered Signal</td>\n",
       "      <td>0.000000</td>\n",
       "      <td>0.0</td>\n",
       "      <td>Filtered Signal</td>\n",
       "      <td>0.000000</td>\n",
       "      <td>0.0</td>\n",
       "      <td>Filtered Signal</td>\n",
       "      <td>0.000000</td>\n",
       "      <td>0.0</td>\n",
       "      <td>...</td>\n",
       "      <td>0.0</td>\n",
       "      <td>Generated Signal</td>\n",
       "      <td>0.000000</td>\n",
       "      <td>Generated Signal</td>\n",
       "      <td>0.000000</td>\n",
       "      <td>0.0</td>\n",
       "      <td>Generated Signal</td>\n",
       "      <td>0.000000</td>\n",
       "      <td>Generated Signal</td>\n",
       "      <td>0.000000</td>\n",
       "    </tr>\n",
       "    <tr>\n",
       "      <th>2</th>\n",
       "      <td>0.0</td>\n",
       "      <td>0</td>\n",
       "      <td>-0.136736</td>\n",
       "      <td>0.0</td>\n",
       "      <td>0</td>\n",
       "      <td>0.048484</td>\n",
       "      <td>0.0</td>\n",
       "      <td>0</td>\n",
       "      <td>-0.121954</td>\n",
       "      <td>0.0</td>\n",
       "      <td>...</td>\n",
       "      <td>0.0</td>\n",
       "      <td>2662.2522</td>\n",
       "      <td>15.825630</td>\n",
       "      <td>2662.2522</td>\n",
       "      <td>15.825630</td>\n",
       "      <td>0.0</td>\n",
       "      <td>1666.9614</td>\n",
       "      <td>13.896367</td>\n",
       "      <td>1666.9614</td>\n",
       "      <td>13.896367</td>\n",
       "    </tr>\n",
       "    <tr>\n",
       "      <th>3</th>\n",
       "      <td>0.0</td>\n",
       "      <td>0.334664</td>\n",
       "      <td>-0.136736</td>\n",
       "      <td>0.0</td>\n",
       "      <td>0.334664</td>\n",
       "      <td>0.051535</td>\n",
       "      <td>0.0</td>\n",
       "      <td>0.334664</td>\n",
       "      <td>-0.127369</td>\n",
       "      <td>0.0</td>\n",
       "      <td>...</td>\n",
       "      <td>0.0</td>\n",
       "      <td>2662.253964</td>\n",
       "      <td>15.825626</td>\n",
       "      <td>2662.253964</td>\n",
       "      <td>15.825626</td>\n",
       "      <td>0.0</td>\n",
       "      <td>1666.963164</td>\n",
       "      <td>13.896362</td>\n",
       "      <td>1666.963164</td>\n",
       "      <td>13.896362</td>\n",
       "    </tr>\n",
       "    <tr>\n",
       "      <th>4</th>\n",
       "      <td>0.0</td>\n",
       "      <td>0.669328</td>\n",
       "      <td>-0.138823</td>\n",
       "      <td>0.0</td>\n",
       "      <td>0.669328</td>\n",
       "      <td>0.053764</td>\n",
       "      <td>0.0</td>\n",
       "      <td>0.669328</td>\n",
       "      <td>-0.127852</td>\n",
       "      <td>0.0</td>\n",
       "      <td>...</td>\n",
       "      <td>0.0</td>\n",
       "      <td>2662.255729</td>\n",
       "      <td>15.825612</td>\n",
       "      <td>2662.255729</td>\n",
       "      <td>15.825612</td>\n",
       "      <td>0.0</td>\n",
       "      <td>1666.964929</td>\n",
       "      <td>13.896350</td>\n",
       "      <td>1666.964929</td>\n",
       "      <td>13.896350</td>\n",
       "    </tr>\n",
       "    <tr>\n",
       "      <th>5</th>\n",
       "      <td>0.0</td>\n",
       "      <td>1.003992</td>\n",
       "      <td>-0.138395</td>\n",
       "      <td>0.0</td>\n",
       "      <td>1.003992</td>\n",
       "      <td>0.057449</td>\n",
       "      <td>0.0</td>\n",
       "      <td>1.003992</td>\n",
       "      <td>-0.126684</td>\n",
       "      <td>0.0</td>\n",
       "      <td>...</td>\n",
       "      <td>0.0</td>\n",
       "      <td>2662.257493</td>\n",
       "      <td>15.825588</td>\n",
       "      <td>2662.257493</td>\n",
       "      <td>15.825588</td>\n",
       "      <td>0.0</td>\n",
       "      <td>1666.966693</td>\n",
       "      <td>13.896329</td>\n",
       "      <td>1666.966693</td>\n",
       "      <td>13.896329</td>\n",
       "    </tr>\n",
       "    <tr>\n",
       "      <th>6</th>\n",
       "      <td>0.0</td>\n",
       "      <td>1.338656</td>\n",
       "      <td>-0.140910</td>\n",
       "      <td>0.0</td>\n",
       "      <td>1.338656</td>\n",
       "      <td>0.054229</td>\n",
       "      <td>0.0</td>\n",
       "      <td>1.338656</td>\n",
       "      <td>-0.113466</td>\n",
       "      <td>0.0</td>\n",
       "      <td>...</td>\n",
       "      <td>0.0</td>\n",
       "      <td>2662.259258</td>\n",
       "      <td>15.825556</td>\n",
       "      <td>2662.259258</td>\n",
       "      <td>15.825556</td>\n",
       "      <td>0.0</td>\n",
       "      <td>1666.968458</td>\n",
       "      <td>13.896299</td>\n",
       "      <td>1666.968458</td>\n",
       "      <td>13.896299</td>\n",
       "    </tr>\n",
       "    <tr>\n",
       "      <th>7</th>\n",
       "      <td>0.0</td>\n",
       "      <td>1.67332</td>\n",
       "      <td>-0.138047</td>\n",
       "      <td>0.0</td>\n",
       "      <td>1.67332</td>\n",
       "      <td>0.058439</td>\n",
       "      <td>0.0</td>\n",
       "      <td>1.67332</td>\n",
       "      <td>-0.105169</td>\n",
       "      <td>0.0</td>\n",
       "      <td>...</td>\n",
       "      <td>0.0</td>\n",
       "      <td>2662.261022</td>\n",
       "      <td>15.825513</td>\n",
       "      <td>2662.261022</td>\n",
       "      <td>15.825513</td>\n",
       "      <td>0.0</td>\n",
       "      <td>1666.970222</td>\n",
       "      <td>13.896262</td>\n",
       "      <td>1666.970222</td>\n",
       "      <td>13.896262</td>\n",
       "    </tr>\n",
       "    <tr>\n",
       "      <th>8</th>\n",
       "      <td>0.0</td>\n",
       "      <td>2.007984</td>\n",
       "      <td>-0.137503</td>\n",
       "      <td>0.0</td>\n",
       "      <td>2.007984</td>\n",
       "      <td>0.057226</td>\n",
       "      <td>0.0</td>\n",
       "      <td>2.007984</td>\n",
       "      <td>-0.090906</td>\n",
       "      <td>0.0</td>\n",
       "      <td>...</td>\n",
       "      <td>0.0</td>\n",
       "      <td>2662.262786</td>\n",
       "      <td>15.825462</td>\n",
       "      <td>2662.262786</td>\n",
       "      <td>15.825462</td>\n",
       "      <td>0.0</td>\n",
       "      <td>1666.971986</td>\n",
       "      <td>13.896215</td>\n",
       "      <td>1666.971986</td>\n",
       "      <td>13.896215</td>\n",
       "    </tr>\n",
       "    <tr>\n",
       "      <th>9</th>\n",
       "      <td>0.0</td>\n",
       "      <td>2.342648</td>\n",
       "      <td>-0.131383</td>\n",
       "      <td>0.0</td>\n",
       "      <td>2.342648</td>\n",
       "      <td>0.060491</td>\n",
       "      <td>0.0</td>\n",
       "      <td>2.342648</td>\n",
       "      <td>-0.086820</td>\n",
       "      <td>0.0</td>\n",
       "      <td>...</td>\n",
       "      <td>0.0</td>\n",
       "      <td>2662.264551</td>\n",
       "      <td>15.825401</td>\n",
       "      <td>2662.264551</td>\n",
       "      <td>15.825401</td>\n",
       "      <td>0.0</td>\n",
       "      <td>1666.973751</td>\n",
       "      <td>13.896161</td>\n",
       "      <td>1666.973751</td>\n",
       "      <td>13.896161</td>\n",
       "    </tr>\n",
       "  </tbody>\n",
       "</table>\n",
       "<p>10 rows × 24 columns</p>\n",
       "</div>"
      ],
      "text/plain": [
       "   Unnamed: 0       Unnamed: 1  Unnamed: 2  Unnamed: 3  \\\n",
       "0         0.0  Full (PT18_307)    0.000000         0.0   \n",
       "1         0.0  Filtered Signal    0.000000         0.0   \n",
       "2         0.0                0   -0.136736         0.0   \n",
       "3         0.0         0.334664   -0.136736         0.0   \n",
       "4         0.0         0.669328   -0.138823         0.0   \n",
       "5         0.0         1.003992   -0.138395         0.0   \n",
       "6         0.0         1.338656   -0.140910         0.0   \n",
       "7         0.0          1.67332   -0.138047         0.0   \n",
       "8         0.0         2.007984   -0.137503         0.0   \n",
       "9         0.0         2.342648   -0.131383         0.0   \n",
       "\n",
       "                Unnamed: 4  Unnamed: 5  Unnamed: 6          Unnamed: 7  \\\n",
       "0  Intermediate (PT15_303)    0.000000         0.0  Ballast (PT12_304)   \n",
       "1          Filtered Signal    0.000000         0.0     Filtered Signal   \n",
       "2                        0    0.048484         0.0                   0   \n",
       "3                 0.334664    0.051535         0.0            0.334664   \n",
       "4                 0.669328    0.053764         0.0            0.669328   \n",
       "5                 1.003992    0.057449         0.0            1.003992   \n",
       "6                 1.338656    0.054229         0.0            1.338656   \n",
       "7                  1.67332    0.058439         0.0             1.67332   \n",
       "8                 2.007984    0.057226         0.0            2.007984   \n",
       "9                 2.342648    0.060491         0.0            2.342648   \n",
       "\n",
       "   Unnamed: 8  Unnamed: 9  ... Unnamed: 14  Intermediate (PT15_303)  \\\n",
       "0    0.000000         0.0  ...         0.0                      Log   \n",
       "1    0.000000         0.0  ...         0.0         Generated Signal   \n",
       "2   -0.121954         0.0  ...         0.0                2662.2522   \n",
       "3   -0.127369         0.0  ...         0.0              2662.253964   \n",
       "4   -0.127852         0.0  ...         0.0              2662.255729   \n",
       "5   -0.126684         0.0  ...         0.0              2662.257493   \n",
       "6   -0.113466         0.0  ...         0.0              2662.259258   \n",
       "7   -0.105169         0.0  ...         0.0              2662.261022   \n",
       "8   -0.090906         0.0  ...         0.0              2662.262786   \n",
       "9   -0.086820         0.0  ...         0.0              2662.264551   \n",
       "\n",
       "  Unnamed: 16       Unnamed: 17  Unnamed: 18 Unnamed: 19  Ballast (PT12_304)  \\\n",
       "0    0.000000            Froude     0.000000         0.0                 Log   \n",
       "1    0.000000  Generated Signal     0.000000         0.0    Generated Signal   \n",
       "2   15.825630         2662.2522    15.825630         0.0           1666.9614   \n",
       "3   15.825626       2662.253964    15.825626         0.0         1666.963164   \n",
       "4   15.825612       2662.255729    15.825612         0.0         1666.964929   \n",
       "5   15.825588       2662.257493    15.825588         0.0         1666.966693   \n",
       "6   15.825556       2662.259258    15.825556         0.0         1666.968458   \n",
       "7   15.825513       2662.261022    15.825513         0.0         1666.970222   \n",
       "8   15.825462       2662.262786    15.825462         0.0         1666.971986   \n",
       "9   15.825401       2662.264551    15.825401         0.0         1666.973751   \n",
       "\n",
       "  Unnamed: 21       Unnamed: 22  Unnamed: 23  \n",
       "0    0.000000            Froude     0.000000  \n",
       "1    0.000000  Generated Signal     0.000000  \n",
       "2   13.896367         1666.9614    13.896367  \n",
       "3   13.896362       1666.963164    13.896362  \n",
       "4   13.896350       1666.964929    13.896350  \n",
       "5   13.896329       1666.966693    13.896329  \n",
       "6   13.896299       1666.968458    13.896299  \n",
       "7   13.896262       1666.970222    13.896262  \n",
       "8   13.896215       1666.971986    13.896215  \n",
       "9   13.896161       1666.973751    13.896161  \n",
       "\n",
       "[10 rows x 24 columns]"
      ]
     },
     "execution_count": 4,
     "metadata": {},
     "output_type": "execute_result"
    }
   ],
   "source": [
    "df1.head(10)"
   ]
  },
  {
   "cell_type": "markdown",
   "id": "8505066c",
   "metadata": {},
   "source": [
    "# Splliting Data Based on Different Type"
   ]
  },
  {
   "cell_type": "code",
   "execution_count": 5,
   "id": "778e298d",
   "metadata": {},
   "outputs": [],
   "source": [
    "X_train_Full=df1.iloc[3:16536,[1,2]]\n",
    "Y_train_Full=df1.iloc[3:16536,[10]]\n",
    "\n",
    "X_train_Blast=df1.iloc[3:7185,[7,8]]\n",
    "Y_train_Blast=df1.iloc[3:7185,[20]]\n",
    "\n",
    "X_train_Intermediate=df1.iloc[3:15024,[4,5]]\n",
    "Y_train_Intermediate=df1.iloc[3:15024,[15]]"
   ]
  },
  {
   "cell_type": "code",
   "execution_count": 6,
   "id": "1004e04e",
   "metadata": {},
   "outputs": [],
   "source": [
    "X_train_Full=np.array(X_train_Full).astype(np.float64)\n",
    "Y_train_Full=np.array(Y_train_Full).astype(np.float64)\n",
    "\n",
    "X_train_Blast=np.array(X_train_Blast).astype(np.float64)\n",
    "Y_train_Blast=np.array(Y_train_Blast).astype(np.float64)\n",
    "\n",
    "X_train_Intermediate=np.array(X_train_Intermediate).astype(np.float64)\n",
    "Y_train_Intermediate=np.array(Y_train_Intermediate).astype(np.float64)"
   ]
  },
  {
   "cell_type": "markdown",
   "id": "f3d385f9",
   "metadata": {},
   "source": [
    "# Scaling The Data Points"
   ]
  },
  {
   "cell_type": "code",
   "execution_count": 7,
   "id": "755e946f",
   "metadata": {},
   "outputs": [],
   "source": [
    "\n",
    "SS_Full_Output=StandardScaler()\n",
    "\n",
    "SS_Blast_Output=StandardScaler()\n",
    "\n",
    "SS_Intermediate_Output=StandardScaler()"
   ]
  },
  {
   "cell_type": "code",
   "execution_count": 8,
   "id": "9e201d36",
   "metadata": {},
   "outputs": [],
   "source": [
    "#X_train_Full=SS_Full_Input.fit_transform(X_train_Full)\n",
    "Y_train_Full=SS_Full_Output.fit_transform(Y_train_Full)\n",
    "\n",
    "Y_train_Blast=SS_Blast_Output.fit_transform(Y_train_Blast)\n",
    "\n",
    "#X_train_Intermediate=SS_Intermediate_Input.fit_transform(X_train_Intermediate)\n",
    "Y_train_Intermediate=SS_Intermediate_Output.fit_transform(Y_train_Intermediate)"
   ]
  },
  {
   "cell_type": "code",
   "execution_count": null,
   "id": "cca32823",
   "metadata": {},
   "outputs": [],
   "source": []
  },
  {
   "cell_type": "markdown",
   "id": "038f2fd2",
   "metadata": {},
   "source": [
    "# Intermediate"
   ]
  },
  {
   "cell_type": "markdown",
   "id": "18bba0cc",
   "metadata": {},
   "source": [
    "## Defining the model"
   ]
  },
  {
   "cell_type": "code",
   "execution_count": 9,
   "id": "c49693fd",
   "metadata": {},
   "outputs": [],
   "source": [
    "Intermediate_Model=Sequential()\n",
    "Intermediate_Model.add(Dense(30,activation='relu',input_shape=(2,)))\n",
    "Intermediate_Model.add(Dense(30,activation='relu'))\n",
    "Intermediate_Model.add(Dense(18,activation='relu'))\n",
    "Intermediate_Model.add(Dense(30,activation='relu'))\n",
    "Intermediate_Model.add(Dense(1))"
   ]
  },
  {
   "cell_type": "markdown",
   "id": "6f8461a3",
   "metadata": {},
   "source": [
    "## Compiling the model "
   ]
  },
  {
   "cell_type": "code",
   "execution_count": 15,
   "id": "365e6e99",
   "metadata": {},
   "outputs": [
    {
     "name": "stdout",
     "output_type": "stream",
     "text": [
      "You must install pydot (`pip install pydot`) and install graphviz (see instructions at https://graphviz.gitlab.io/download/) for plot_model to work.\n"
     ]
    }
   ],
   "source": [
    "Intermediate_Model.compile(optimizer='adam',loss='mse',metrics=['mse'])\n",
    "plot_model(Intermediate_Model, to_file='Intermediate_model_architecture.jpg', show_shapes=True, show_layer_names=True)\n"
   ]
  },
  {
   "cell_type": "markdown",
   "id": "ef0da5ef",
   "metadata": {},
   "source": [
    "## Training the model"
   ]
  },
  {
   "cell_type": "code",
   "execution_count": 11,
   "id": "5f1e9679",
   "metadata": {
    "scrolled": true
   },
   "outputs": [
    {
     "name": "stdout",
     "output_type": "stream",
     "text": [
      "Epoch 1/40\n",
      "470/470 [==============================] - 2s 2ms/step - loss: 3.2040 - mse: 3.2040\n",
      "Epoch 2/40\n",
      "470/470 [==============================] - 1s 2ms/step - loss: 0.2201 - mse: 0.2201\n",
      "Epoch 3/40\n",
      "470/470 [==============================] - 1s 2ms/step - loss: 0.1036 - mse: 0.1036\n",
      "Epoch 4/40\n",
      "470/470 [==============================] - 1s 2ms/step - loss: 0.7154 - mse: 0.7154\n",
      "Epoch 5/40\n",
      "470/470 [==============================] - 1s 2ms/step - loss: 0.4408 - mse: 0.4408\n",
      "Epoch 6/40\n",
      "470/470 [==============================] - 1s 2ms/step - loss: 0.0030 - mse: 0.0030\n",
      "Epoch 7/40\n",
      "470/470 [==============================] - 1s 2ms/step - loss: 1.2010 - mse: 1.2010\n",
      "Epoch 8/40\n",
      "470/470 [==============================] - 1s 2ms/step - loss: 0.0030 - mse: 0.0030\n",
      "Epoch 9/40\n",
      "470/470 [==============================] - 1s 2ms/step - loss: 0.0017 - mse: 0.0017\n",
      "Epoch 10/40\n",
      "470/470 [==============================] - 1s 2ms/step - loss: 0.0014 - mse: 0.0014\n",
      "Epoch 11/40\n",
      "470/470 [==============================] - 1s 2ms/step - loss: 0.0014 - mse: 0.0014\n",
      "Epoch 12/40\n",
      "470/470 [==============================] - 1s 2ms/step - loss: 0.1420 - mse: 0.1420\n",
      "Epoch 13/40\n",
      "470/470 [==============================] - 1s 2ms/step - loss: 0.1863 - mse: 0.1863\n",
      "Epoch 14/40\n",
      "470/470 [==============================] - 1s 2ms/step - loss: 0.0237 - mse: 0.0237\n",
      "Epoch 15/40\n",
      "470/470 [==============================] - 1s 2ms/step - loss: 0.0013 - mse: 0.0013  \n",
      "Epoch 16/40\n",
      "470/470 [==============================] - 1s 2ms/step - loss: 0.0484 - mse: 0.0484\n",
      "Epoch 17/40\n",
      "470/470 [==============================] - 1s 2ms/step - loss: 0.0489 - mse: 0.0489\n",
      "Epoch 18/40\n",
      "470/470 [==============================] - 1s 2ms/step - loss: 0.1001 - mse: 0.1001\n",
      "Epoch 19/40\n",
      "470/470 [==============================] - 1s 2ms/step - loss: 0.0014 - mse: 0.0014\n",
      "Epoch 20/40\n",
      "470/470 [==============================] - 1s 2ms/step - loss: 0.8560 - mse: 0.8560\n",
      "Epoch 21/40\n",
      "470/470 [==============================] - 1s 2ms/step - loss: 0.0347 - mse: 0.0347\n",
      "Epoch 22/40\n",
      "470/470 [==============================] - 1s 2ms/step - loss: 0.0058 - mse: 0.0058\n",
      "Epoch 23/40\n",
      "470/470 [==============================] - 1s 2ms/step - loss: 0.0043 - mse: 0.0043\n",
      "Epoch 24/40\n",
      "470/470 [==============================] - 1s 2ms/step - loss: 0.0100 - mse: 0.0100\n",
      "Epoch 25/40\n",
      "470/470 [==============================] - 1s 2ms/step - loss: 0.0250 - mse: 0.0250\n",
      "Epoch 26/40\n",
      "470/470 [==============================] - 1s 2ms/step - loss: 0.0034 - mse: 0.0034\n",
      "Epoch 27/40\n",
      "470/470 [==============================] - 1s 2ms/step - loss: 0.0870 - mse: 0.0870\n",
      "Epoch 28/40\n",
      "470/470 [==============================] - 1s 2ms/step - loss: 0.0014 - mse: 0.0014  \n",
      "Epoch 29/40\n",
      "470/470 [==============================] - 1s 2ms/step - loss: 0.0013 - mse: 0.0013\n",
      "Epoch 30/40\n",
      "470/470 [==============================] - 1s 2ms/step - loss: 0.0013 - mse: 0.0013 \n",
      "Epoch 31/40\n",
      "470/470 [==============================] - 1s 2ms/step - loss: 0.0386 - mse: 0.0386 \n",
      "Epoch 32/40\n",
      "470/470 [==============================] - 1s 2ms/step - loss: 0.0106 - mse: 0.0106\n",
      "Epoch 33/40\n",
      "470/470 [==============================] - 1s 2ms/step - loss: 0.0013 - mse: 0.0013\n",
      "Epoch 34/40\n",
      "470/470 [==============================] - 1s 2ms/step - loss: 0.0012 - mse: 0.0012\n",
      "Epoch 35/40\n",
      "470/470 [==============================] - 1s 2ms/step - loss: 0.0012 - mse: 0.0012\n",
      "Epoch 36/40\n",
      "470/470 [==============================] - 1s 2ms/step - loss: 0.0012 - mse: 0.0012  \n",
      "Epoch 37/40\n",
      "470/470 [==============================] - 1s 2ms/step - loss: 0.0043 - mse: 0.0043\n",
      "Epoch 38/40\n",
      "470/470 [==============================] - 1s 2ms/step - loss: 0.0038 - mse: 0.0038\n",
      "Epoch 39/40\n",
      "470/470 [==============================] - 1s 2ms/step - loss: 0.0017 - mse: 0.0017    \n",
      "Epoch 40/40\n",
      "470/470 [==============================] - 1s 2ms/step - loss: 0.0024 - mse: 0.0024\n"
     ]
    }
   ],
   "source": [
    "History_Intermediate=Intermediate_Model.fit(X_train_Intermediate,Y_train_Intermediate,epochs=40,batch_size=32)"
   ]
  },
  {
   "cell_type": "markdown",
   "id": "2b816048",
   "metadata": {},
   "source": [
    "## Checkin the accuracy"
   ]
  },
  {
   "cell_type": "code",
   "execution_count": 12,
   "id": "8ae6417f",
   "metadata": {},
   "outputs": [
    {
     "name": "stdout",
     "output_type": "stream",
     "text": [
      "470/470 [==============================] - 1s 2ms/step\n"
     ]
    },
    {
     "data": {
      "text/plain": [
       "0.9990231360748605"
      ]
     },
     "execution_count": 12,
     "metadata": {},
     "output_type": "execute_result"
    }
   ],
   "source": [
    "r2_score(Y_train_Intermediate,Intermediate_Model.predict(X_train_Intermediate))"
   ]
  },
  {
   "cell_type": "markdown",
   "id": "4e9b7192",
   "metadata": {},
   "source": [
    "## Plots"
   ]
  },
  {
   "cell_type": "code",
   "execution_count": 13,
   "id": "e2e6a2c5",
   "metadata": {},
   "outputs": [
    {
     "data": {
      "image/png": "[encoded data removed]",
      "text/plain": [
       "<Figure size 640x480 with 1 Axes>"
      ]
     },
     "metadata": {},
     "output_type": "display_data"
    }
   ],
   "source": [
    "import matplotlib.pyplot as plt\n",
    "plt.title('Loss')\n",
    "plt.plot(History_Intermediate.history['loss'])\n",
    "plt.xlabel('Epochs')\n",
    "plt.ylabel('Loss')\n",
    "plt.savefig('Loss_Intermediate.png')\n",
    "plt.show()"
   ]
  },
  {
   "cell_type": "code",
   "execution_count": 14,
   "id": "fc500424",
   "metadata": {},
   "outputs": [
    {
     "name": "stdout",
     "output_type": "stream",
     "text": [
      "470/470 [==============================] - 1s 1ms/step\n"
     ]
    },
    {
     "data": {
      "image/png": "[encoded data removed]",
      "text/plain": [
       "<Figure size 640x480 with 1 Axes>"
      ]
     },
     "metadata": {},
     "output_type": "display_data"
    }
   ],
   "source": [
    "import matplotlib.pyplot as plt\n",
    "plt.figure()\n",
    "plt.title('Predicted_Value')\n",
    "plt.scatter([i for i in range(1000)],Y_train_Intermediate[:1000],alpha=0.3,label='Original')\n",
    "plt.scatter([i for i in range(1000)],Intermediate_Model.predict(X_train_Intermediate)[:1000],alpha=0.1,label='Predicted')\n",
    "plt.xlabel('Data_Points')\n",
    "plt.ylabel('Scaled_Value')\n",
    "plt.legend()\n",
    "plt.savefig('Prediction_Original_Intermediate.png')\n",
    "plt.show()"
   ]
  },
  {
   "cell_type": "code",
   "execution_count": 15,
   "id": "9d0f6f13",
   "metadata": {},
   "outputs": [
    {
     "name": "stdout",
     "output_type": "stream",
     "text": [
      "470/470 [==============================] - 1s 2ms/step\n"
     ]
    }
   ],
   "source": [
    "Original_Intermediate=SS_Intermediate_Output.inverse_transform(Y_train_Intermediate)\n",
    "Output_Intermediate=SS_Intermediate_Output.inverse_transform(Intermediate_Model.predict(X_train_Intermediate))"
   ]
  },
  {
   "cell_type": "code",
   "execution_count": 16,
   "id": "6291ab6f",
   "metadata": {},
   "outputs": [],
   "source": [
    "Intermediate_Output={'Frode_Number_Original':Original_Intermediate[:,0],'Frode_Number_Predicted':Output_Intermediate[:,0]}"
   ]
  },
  {
   "cell_type": "code",
   "execution_count": 17,
   "id": "1cac3efd",
   "metadata": {},
   "outputs": [
    {
     "data": {
      "text/html": [
       "<div>\n",
       "<style scoped>\n",
       "    .dataframe tbody tr th:only-of-type {\n",
       "        vertical-align: middle;\n",
       "    }\n",
       "\n",
       "    .dataframe tbody tr th {\n",
       "        vertical-align: top;\n",
       "    }\n",
       "\n",
       "    .dataframe thead th {\n",
       "        text-align: right;\n",
       "    }\n",
       "</style>\n",
       "<table border=\"1\" class=\"dataframe\">\n",
       "  <thead>\n",
       "    <tr style=\"text-align: right;\">\n",
       "      <th></th>\n",
       "      <th>Frode_Number_Original</th>\n",
       "      <th>Frode_Number_Predicted</th>\n",
       "    </tr>\n",
       "  </thead>\n",
       "  <tbody>\n",
       "    <tr>\n",
       "      <th>0</th>\n",
       "      <td>2662.253964</td>\n",
       "      <td>2668.416260</td>\n",
       "    </tr>\n",
       "    <tr>\n",
       "      <th>1</th>\n",
       "      <td>2662.255729</td>\n",
       "      <td>2667.102051</td>\n",
       "    </tr>\n",
       "    <tr>\n",
       "      <th>2</th>\n",
       "      <td>2662.257493</td>\n",
       "      <td>2665.683838</td>\n",
       "    </tr>\n",
       "    <tr>\n",
       "      <th>3</th>\n",
       "      <td>2662.259258</td>\n",
       "      <td>2664.336426</td>\n",
       "    </tr>\n",
       "    <tr>\n",
       "      <th>4</th>\n",
       "      <td>2662.261022</td>\n",
       "      <td>2662.979736</td>\n",
       "    </tr>\n",
       "    <tr>\n",
       "      <th>...</th>\n",
       "      <td>...</td>\n",
       "      <td>...</td>\n",
       "    </tr>\n",
       "    <tr>\n",
       "      <th>15016</th>\n",
       "      <td>2688.748195</td>\n",
       "      <td>2688.641846</td>\n",
       "    </tr>\n",
       "    <tr>\n",
       "      <th>15017</th>\n",
       "      <td>2688.749959</td>\n",
       "      <td>2688.643555</td>\n",
       "    </tr>\n",
       "    <tr>\n",
       "      <th>15018</th>\n",
       "      <td>2688.751724</td>\n",
       "      <td>2688.645264</td>\n",
       "    </tr>\n",
       "    <tr>\n",
       "      <th>15019</th>\n",
       "      <td>2688.753488</td>\n",
       "      <td>2669.959717</td>\n",
       "    </tr>\n",
       "    <tr>\n",
       "      <th>15020</th>\n",
       "      <td>2688.755252</td>\n",
       "      <td>2669.959717</td>\n",
       "    </tr>\n",
       "  </tbody>\n",
       "</table>\n",
       "<p>15021 rows × 2 columns</p>\n",
       "</div>"
      ],
      "text/plain": [
       "       Frode_Number_Original  Frode_Number_Predicted\n",
       "0                2662.253964             2668.416260\n",
       "1                2662.255729             2667.102051\n",
       "2                2662.257493             2665.683838\n",
       "3                2662.259258             2664.336426\n",
       "4                2662.261022             2662.979736\n",
       "...                      ...                     ...\n",
       "15016            2688.748195             2688.641846\n",
       "15017            2688.749959             2688.643555\n",
       "15018            2688.751724             2688.645264\n",
       "15019            2688.753488             2669.959717\n",
       "15020            2688.755252             2669.959717\n",
       "\n",
       "[15021 rows x 2 columns]"
      ]
     },
     "execution_count": 17,
     "metadata": {},
     "output_type": "execute_result"
    }
   ],
   "source": [
    "pd.DataFrame(Intermediate_Output)"
   ]
  },
  {
   "cell_type": "markdown",
   "id": "a89c198c",
   "metadata": {},
   "source": [
    "# Full"
   ]
  },
  {
   "cell_type": "markdown",
   "id": "0c5809a1",
   "metadata": {},
   "source": [
    "## Creating the model"
   ]
  },
  {
   "cell_type": "code",
   "execution_count": 18,
   "id": "ed6b22ee",
   "metadata": {},
   "outputs": [],
   "source": [
    "Full_Model=Sequential()\n",
    "Full_Model.add(Dense(30,activation='relu',input_shape=(2,)))\n",
    "Full_Model.add(Dense(30,activation='relu'))\n",
    "Full_Model.add(Dense(18,activation='relu'))\n",
    "Full_Model.add(Dense(30,activation='relu'))\n",
    "Full_Model.add(Dense(1))"
   ]
  },
  {
   "cell_type": "markdown",
   "id": "dec9934e",
   "metadata": {},
   "source": [
    "## Compiling the model "
   ]
  },
  {
   "cell_type": "code",
   "execution_count": 19,
   "id": "a624cfb3",
   "metadata": {},
   "outputs": [],
   "source": [
    "Full_Model.compile(optimizer='adam',loss='mse',metrics=['mse'])\n",
    "plot_model(Full_Model, to_file='Full_model_architecture.png', show_shapes=True, show_layer_names=True)"
   ]
  },
  {
   "cell_type": "markdown",
   "id": "ab8f7704",
   "metadata": {},
   "source": [
    "## Training the model"
   ]
  },
  {
   "cell_type": "code",
   "execution_count": 36,
   "id": "3cdce5ac",
   "metadata": {},
   "outputs": [
    {
     "name": "stdout",
     "output_type": "stream",
     "text": [
      "Epoch 1/40\n",
      "517/517 [==============================] - 1s 2ms/step - loss: 0.2689 - mse: 0.2689\n",
      "Epoch 2/40\n",
      "517/517 [==============================] - 1s 2ms/step - loss: 0.2747 - mse: 0.2747\n",
      "Epoch 3/40\n",
      "517/517 [==============================] - 1s 2ms/step - loss: 0.2324 - mse: 0.2324\n",
      "Epoch 4/40\n",
      "517/517 [==============================] - 1s 2ms/step - loss: 0.2373 - mse: 0.2373\n",
      "Epoch 5/40\n",
      "517/517 [==============================] - 1s 2ms/step - loss: 0.2381 - mse: 0.2381\n",
      "Epoch 6/40\n",
      "517/517 [==============================] - 1s 2ms/step - loss: 0.2303 - mse: 0.2303\n",
      "Epoch 7/40\n",
      "517/517 [==============================] - 1s 2ms/step - loss: 0.2216 - mse: 0.2216\n",
      "Epoch 8/40\n",
      "517/517 [==============================] - 1s 2ms/step - loss: 0.2085 - mse: 0.2085\n",
      "Epoch 9/40\n",
      "517/517 [==============================] - 1s 2ms/step - loss: 0.2232 - mse: 0.2232\n",
      "Epoch 10/40\n",
      "517/517 [==============================] - 1s 2ms/step - loss: 0.1841 - mse: 0.1841\n",
      "Epoch 11/40\n",
      "517/517 [==============================] - 1s 2ms/step - loss: 0.5880 - mse: 0.5880\n",
      "Epoch 12/40\n",
      "517/517 [==============================] - 1s 2ms/step - loss: 0.2925 - mse: 0.2925\n",
      "Epoch 13/40\n",
      "517/517 [==============================] - 1s 2ms/step - loss: 0.2697 - mse: 0.2697\n",
      "Epoch 14/40\n",
      "517/517 [==============================] - 1s 2ms/step - loss: 0.2686 - mse: 0.2686\n",
      "Epoch 15/40\n",
      "517/517 [==============================] - 1s 2ms/step - loss: 0.2551 - mse: 0.2551\n",
      "Epoch 16/40\n",
      "517/517 [==============================] - 1s 2ms/step - loss: 0.2526 - mse: 0.2526\n",
      "Epoch 17/40\n",
      "517/517 [==============================] - 1s 2ms/step - loss: 0.2223 - mse: 0.2223\n",
      "Epoch 18/40\n",
      "517/517 [==============================] - 1s 2ms/step - loss: 0.2632 - mse: 0.2632\n",
      "Epoch 19/40\n",
      "517/517 [==============================] - 1s 2ms/step - loss: 0.2682 - mse: 0.2682\n",
      "Epoch 20/40\n",
      "517/517 [==============================] - 1s 2ms/step - loss: 0.2470 - mse: 0.2470\n",
      "Epoch 21/40\n",
      "517/517 [==============================] - 1s 2ms/step - loss: 0.2418 - mse: 0.2418\n",
      "Epoch 22/40\n",
      "517/517 [==============================] - 1s 2ms/step - loss: 0.2081 - mse: 0.2081\n",
      "Epoch 23/40\n",
      "517/517 [==============================] - 1s 2ms/step - loss: 0.1543 - mse: 0.1543\n",
      "Epoch 24/40\n",
      "517/517 [==============================] - 1s 2ms/step - loss: 0.1193 - mse: 0.1193\n",
      "Epoch 25/40\n",
      "517/517 [==============================] - 1s 2ms/step - loss: 0.1015 - mse: 0.1015\n",
      "Epoch 26/40\n",
      "517/517 [==============================] - 1s 2ms/step - loss: 0.0743 - mse: 0.0743\n",
      "Epoch 27/40\n",
      "517/517 [==============================] - 1s 2ms/step - loss: 0.0941 - mse: 0.0941\n",
      "Epoch 28/40\n",
      "517/517 [==============================] - 1s 2ms/step - loss: 0.0763 - mse: 0.0763\n",
      "Epoch 29/40\n",
      "517/517 [==============================] - 1s 2ms/step - loss: 0.0610 - mse: 0.0610\n",
      "Epoch 30/40\n",
      "517/517 [==============================] - 1s 2ms/step - loss: 0.0504 - mse: 0.0504\n",
      "Epoch 31/40\n",
      "517/517 [==============================] - 1s 2ms/step - loss: 0.0565 - mse: 0.0565\n",
      "Epoch 32/40\n",
      "517/517 [==============================] - 1s 2ms/step - loss: 0.0697 - mse: 0.0697\n",
      "Epoch 33/40\n",
      "517/517 [==============================] - 1s 2ms/step - loss: 0.0609 - mse: 0.0609\n",
      "Epoch 34/40\n",
      "517/517 [==============================] - 1s 2ms/step - loss: 0.0708 - mse: 0.0708\n",
      "Epoch 35/40\n",
      "517/517 [==============================] - 1s 2ms/step - loss: 0.0495 - mse: 0.0495\n",
      "Epoch 36/40\n",
      "517/517 [==============================] - 1s 2ms/step - loss: 0.0426 - mse: 0.0426\n",
      "Epoch 37/40\n",
      "517/517 [==============================] - 1s 2ms/step - loss: 0.0560 - mse: 0.0560\n",
      "Epoch 38/40\n",
      "517/517 [==============================] - 1s 2ms/step - loss: 0.0515 - mse: 0.0515\n",
      "Epoch 39/40\n",
      "517/517 [==============================] - 1s 2ms/step - loss: 0.0463 - mse: 0.0463\n",
      "Epoch 40/40\n",
      "517/517 [==============================] - 1s 2ms/step - loss: 0.0475 - mse: 0.0475\n"
     ]
    }
   ],
   "source": [
    "History_Full=Full_Model.fit(X_train_Full,Y_train_Full,epochs=80,batch_size=32) #40"
   ]
  },
  {
   "cell_type": "markdown",
   "id": "6884f11f",
   "metadata": {},
   "source": [
    "## Evaluating the Model"
   ]
  },
  {
   "cell_type": "code",
   "execution_count": 37,
   "id": "f3fe0666",
   "metadata": {},
   "outputs": [
    {
     "name": "stdout",
     "output_type": "stream",
     "text": [
      "517/517 [==============================] - 1s 2ms/step\n"
     ]
    },
    {
     "data": {
      "text/plain": [
       "0.9673381471901322"
      ]
     },
     "execution_count": 37,
     "metadata": {},
     "output_type": "execute_result"
    }
   ],
   "source": [
    "r2_score(Y_train_Full,Full_Model.predict(X_train_Full))"
   ]
  },
  {
   "cell_type": "markdown",
   "id": "6a65a44b",
   "metadata": {},
   "source": [
    "## Plots"
   ]
  },
  {
   "cell_type": "code",
   "execution_count": 38,
   "id": "ffe3a45c",
   "metadata": {},
   "outputs": [
    {
     "data": {
      "image/png": "[encoded data removed]",
      "text/plain": [
       "<Figure size 640x480 with 1 Axes>"
      ]
     },
     "metadata": {},
     "output_type": "display_data"
    }
   ],
   "source": [
    "import matplotlib.pyplot as plt\n",
    "plt.title('Loss')\n",
    "plt.plot(History_Full.history['loss'])\n",
    "plt.xlabel('Epochs')\n",
    "plt.ylabel('Loss')\n",
    "plt.savefig('Loss_Full.png')\n",
    "plt.show()"
   ]
  },
  {
   "cell_type": "code",
   "execution_count": 39,
   "id": "53274384",
   "metadata": {},
   "outputs": [
    {
     "name": "stdout",
     "output_type": "stream",
     "text": [
      "517/517 [==============================] - 1s 2ms/step\n"
     ]
    },
    {
     "data": {
      "image/png": "[encoded data removed]",
      "text/plain": [
       "<Figure size 640x480 with 1 Axes>"
      ]
     },
     "metadata": {},
     "output_type": "display_data"
    }
   ],
   "source": [
    "plt.figure()\n",
    "plt.title('Predicted_Value')\n",
    "plt.scatter([i for i in range(1000)],Y_train_Full[:1000],alpha=0.3,label='Original')\n",
    "plt.scatter([i for i in range(1000)],Full_Model.predict(X_train_Full)[:1000],alpha=0.01,label='Predicted')\n",
    "plt.xlabel('Data_Point')\n",
    "plt.ylabel('Scaled_Value')\n",
    "plt.legend()\n",
    "plt.savefig('Prediction_Original_Full.png')\n",
    "plt.show()"
   ]
  },
  {
   "cell_type": "code",
   "execution_count": 40,
   "id": "f486f3f2",
   "metadata": {},
   "outputs": [
    {
     "name": "stdout",
     "output_type": "stream",
     "text": [
      "517/517 [==============================] - 1s 1ms/step\n"
     ]
    }
   ],
   "source": [
    "Original_Full=SS_Full_Output.inverse_transform(Y_train_Full)\n",
    "Output_Full=SS_Full_Output.inverse_transform(Full_Model.predict(X_train_Full))"
   ]
  },
  {
   "cell_type": "code",
   "execution_count": 41,
   "id": "e30d0d7f",
   "metadata": {},
   "outputs": [],
   "source": [
    "Full_Output={'Frode_Number_Original':Original_Full[1:10,0],'Frode_Number_Predicted':Output_Full[1:10,0]}"
   ]
  },
  {
   "cell_type": "code",
   "execution_count": 42,
   "id": "5ec254c7",
   "metadata": {},
   "outputs": [
    {
     "data": {
      "text/html": [
       "<div>\n",
       "<style scoped>\n",
       "    .dataframe tbody tr th:only-of-type {\n",
       "        vertical-align: middle;\n",
       "    }\n",
       "\n",
       "    .dataframe tbody tr th {\n",
       "        vertical-align: top;\n",
       "    }\n",
       "\n",
       "    .dataframe thead th {\n",
       "        text-align: right;\n",
       "    }\n",
       "</style>\n",
       "<table border=\"1\" class=\"dataframe\">\n",
       "  <thead>\n",
       "    <tr style=\"text-align: right;\">\n",
       "      <th></th>\n",
       "      <th>Frode_Number_Original</th>\n",
       "      <th>Frode_Number_Predicted</th>\n",
       "    </tr>\n",
       "  </thead>\n",
       "  <tbody>\n",
       "    <tr>\n",
       "      <th>0</th>\n",
       "      <td>2740.9982</td>\n",
       "      <td>2736.001221</td>\n",
       "    </tr>\n",
       "    <tr>\n",
       "      <th>1</th>\n",
       "      <td>2741.0482</td>\n",
       "      <td>2724.030273</td>\n",
       "    </tr>\n",
       "    <tr>\n",
       "      <th>2</th>\n",
       "      <td>2741.0982</td>\n",
       "      <td>2716.917236</td>\n",
       "    </tr>\n",
       "    <tr>\n",
       "      <th>3</th>\n",
       "      <td>2741.1482</td>\n",
       "      <td>2700.924316</td>\n",
       "    </tr>\n",
       "    <tr>\n",
       "      <th>4</th>\n",
       "      <td>2741.1982</td>\n",
       "      <td>2688.313232</td>\n",
       "    </tr>\n",
       "    <tr>\n",
       "      <th>5</th>\n",
       "      <td>2741.2482</td>\n",
       "      <td>2666.531250</td>\n",
       "    </tr>\n",
       "    <tr>\n",
       "      <th>6</th>\n",
       "      <td>2741.2982</td>\n",
       "      <td>2668.345215</td>\n",
       "    </tr>\n",
       "    <tr>\n",
       "      <th>7</th>\n",
       "      <td>2741.3482</td>\n",
       "      <td>2670.601318</td>\n",
       "    </tr>\n",
       "    <tr>\n",
       "      <th>8</th>\n",
       "      <td>2741.3982</td>\n",
       "      <td>2689.620850</td>\n",
       "    </tr>\n",
       "  </tbody>\n",
       "</table>\n",
       "</div>"
      ],
      "text/plain": [
       "   Frode_Number_Original  Frode_Number_Predicted\n",
       "0              2740.9982             2736.001221\n",
       "1              2741.0482             2724.030273\n",
       "2              2741.0982             2716.917236\n",
       "3              2741.1482             2700.924316\n",
       "4              2741.1982             2688.313232\n",
       "5              2741.2482             2666.531250\n",
       "6              2741.2982             2668.345215\n",
       "7              2741.3482             2670.601318\n",
       "8              2741.3982             2689.620850"
      ]
     },
     "execution_count": 42,
     "metadata": {},
     "output_type": "execute_result"
    }
   ],
   "source": [
    "pd.DataFrame(Full_Output)"
   ]
  },
  {
   "cell_type": "markdown",
   "id": "cc7b9425",
   "metadata": {},
   "source": [
    "# Blast"
   ]
  },
  {
   "cell_type": "markdown",
   "id": "93b54128",
   "metadata": {},
   "source": [
    "## Creating the Model"
   ]
  },
  {
   "cell_type": "code",
   "execution_count": 27,
   "id": "fdcc56d5",
   "metadata": {},
   "outputs": [],
   "source": [
    "Blast_Model=Sequential()\n",
    "Blast_Model.add(Dense(30,activation='relu',input_shape=(2,)))\n",
    "Blast_Model.add(Dense(30,activation='relu'))\n",
    "Blast_Model.add(Dense(18,activation='relu'))\n",
    "Blast_Model.add(Dense(30,activation='relu'))\n",
    "Blast_Model.add(Dense(1))"
   ]
  },
  {
   "cell_type": "markdown",
   "id": "498226ba",
   "metadata": {},
   "source": [
    "## Compiling the model"
   ]
  },
  {
   "cell_type": "code",
   "execution_count": 28,
   "id": "09efa5c7",
   "metadata": {},
   "outputs": [],
   "source": [
    "Blast_Model.compile(optimizer='adam',loss='mse',metrics=['mse'])\n",
    "plot_model(Blast_Model, to_file='Blast_model_architecture.png', show_shapes=True, show_layer_names=True)"
   ]
  },
  {
   "cell_type": "markdown",
   "id": "604dca7d",
   "metadata": {},
   "source": [
    "## Trainig the model"
   ]
  },
  {
   "cell_type": "code",
   "execution_count": 29,
   "id": "90f60e66",
   "metadata": {},
   "outputs": [
    {
     "name": "stdout",
     "output_type": "stream",
     "text": [
      "Epoch 1/10\n",
      "225/225 [==============================] - 1s 2ms/step - loss: 437.2871 - mse: 437.2871\n",
      "Epoch 2/10\n",
      "225/225 [==============================] - 0s 2ms/step - loss: 0.6605 - mse: 0.6605\n",
      "Epoch 3/10\n",
      "225/225 [==============================] - 0s 2ms/step - loss: 0.3891 - mse: 0.3891\n",
      "Epoch 4/10\n",
      "225/225 [==============================] - 0s 2ms/step - loss: 0.1574 - mse: 0.1574\n",
      "Epoch 5/10\n",
      "225/225 [==============================] - 0s 2ms/step - loss: 0.0628 - mse: 0.0628\n",
      "Epoch 6/10\n",
      "225/225 [==============================] - 0s 2ms/step - loss: 0.0301 - mse: 0.0301\n",
      "Epoch 7/10\n",
      "225/225 [==============================] - 0s 2ms/step - loss: 0.0147 - mse: 0.0147\n",
      "Epoch 8/10\n",
      "225/225 [==============================] - 0s 2ms/step - loss: 0.0080 - mse: 0.0080\n",
      "Epoch 9/10\n",
      "225/225 [==============================] - 0s 2ms/step - loss: 0.0063 - mse: 0.0063\n",
      "Epoch 10/10\n",
      "225/225 [==============================] - 0s 2ms/step - loss: 0.0051 - mse: 0.0051\n"
     ]
    }
   ],
   "source": [
    "History_Blast=Blast_Model.fit(X_train_Blast,Y_train_Blast,epochs=10,batch_size=32) "
   ]
  },
  {
   "cell_type": "markdown",
   "id": "d82b8f50",
   "metadata": {},
   "source": [
    "## Evaluating the model"
   ]
  },
  {
   "cell_type": "code",
   "execution_count": 30,
   "id": "36c83462",
   "metadata": {},
   "outputs": [
    {
     "name": "stdout",
     "output_type": "stream",
     "text": [
      "225/225 [==============================] - 0s 2ms/step\n"
     ]
    },
    {
     "data": {
      "text/plain": [
       "0.9962033782216511"
      ]
     },
     "execution_count": 30,
     "metadata": {},
     "output_type": "execute_result"
    }
   ],
   "source": [
    "r2_score(Y_train_Blast,Blast_Model.predict(X_train_Blast))"
   ]
  },
  {
   "cell_type": "markdown",
   "id": "38e084e1",
   "metadata": {},
   "source": [
    "## Plots"
   ]
  },
  {
   "cell_type": "code",
   "execution_count": 31,
   "id": "d08a3a1e",
   "metadata": {},
   "outputs": [
    {
     "data": {
      "image/png": "[encoded data removed]",
      "text/plain": [
       "<Figure size 640x480 with 1 Axes>"
      ]
     },
     "metadata": {},
     "output_type": "display_data"
    }
   ],
   "source": [
    "import matplotlib.pyplot as plt\n",
    "plt.title('Loss')\n",
    "plt.plot(History_Blast.history['loss'])\n",
    "plt.xlabel('Epochs')\n",
    "plt.ylabel('Loss')\n",
    "plt.savefig('Loss_Blast.png')\n",
    "plt.show()"
   ]
  },
  {
   "cell_type": "code",
   "execution_count": 32,
   "id": "8b3fd5d5",
   "metadata": {},
   "outputs": [
    {
     "name": "stdout",
     "output_type": "stream",
     "text": [
      "225/225 [==============================] - 0s 2ms/step\n"
     ]
    },
    {
     "data": {
      "image/png": "[encoded data removed]",
      "text/plain": [
       "<Figure size 640x480 with 1 Axes>"
      ]
     },
     "metadata": {},
     "output_type": "display_data"
    }
   ],
   "source": [
    "plt.figure()\n",
    "plt.title('Predicted_Value')\n",
    "plt.scatter([i for i in range(1000)],Y_train_Blast[:1000],alpha=0.3,label='Original')\n",
    "plt.scatter([i for i in range(1000)],Blast_Model.predict(X_train_Blast)[:1000],alpha=0.01,label='Predicted')\n",
    "plt.xlabel('Data_Point')\n",
    "plt.ylabel('Scaled_Value')\n",
    "plt.legend()\n",
    "plt.savefig('Prediction_Original_Blast.png')\n",
    "plt.show()"
   ]
  },
  {
   "cell_type": "code",
   "execution_count": 33,
   "id": "6fa01ca2",
   "metadata": {},
   "outputs": [
    {
     "name": "stdout",
     "output_type": "stream",
     "text": [
      "225/225 [==============================] - 0s 2ms/step\n"
     ]
    }
   ],
   "source": [
    "Original_Blast=SS_Blast_Output.inverse_transform(Y_train_Blast)\n",
    "Output_Blast=SS_Blast_Output.inverse_transform(Blast_Model.predict(X_train_Blast))"
   ]
  },
  {
   "cell_type": "code",
   "execution_count": 34,
   "id": "ecae4c00",
   "metadata": {},
   "outputs": [],
   "source": [
    "Blast_Output={'Frode_Number_Original':Original_Blast[1:10,0],'Frode_Number_Predicted':Output_Blast[1:10,0]}"
   ]
  },
  {
   "cell_type": "code",
   "execution_count": 35,
   "id": "25b30b98",
   "metadata": {},
   "outputs": [
    {
     "data": {
      "text/html": [
       "<div>\n",
       "<style scoped>\n",
       "    .dataframe tbody tr th:only-of-type {\n",
       "        vertical-align: middle;\n",
       "    }\n",
       "\n",
       "    .dataframe tbody tr th {\n",
       "        vertical-align: top;\n",
       "    }\n",
       "\n",
       "    .dataframe thead th {\n",
       "        text-align: right;\n",
       "    }\n",
       "</style>\n",
       "<table border=\"1\" class=\"dataframe\">\n",
       "  <thead>\n",
       "    <tr style=\"text-align: right;\">\n",
       "      <th></th>\n",
       "      <th>Frode_Number_Original</th>\n",
       "      <th>Frode_Number_Predicted</th>\n",
       "    </tr>\n",
       "  </thead>\n",
       "  <tbody>\n",
       "    <tr>\n",
       "      <th>0</th>\n",
       "      <td>1666.964929</td>\n",
       "      <td>1668.122192</td>\n",
       "    </tr>\n",
       "    <tr>\n",
       "      <th>1</th>\n",
       "      <td>1666.966693</td>\n",
       "      <td>1668.020630</td>\n",
       "    </tr>\n",
       "    <tr>\n",
       "      <th>2</th>\n",
       "      <td>1666.968458</td>\n",
       "      <td>1667.937256</td>\n",
       "    </tr>\n",
       "    <tr>\n",
       "      <th>3</th>\n",
       "      <td>1666.970222</td>\n",
       "      <td>1667.880859</td>\n",
       "    </tr>\n",
       "    <tr>\n",
       "      <th>4</th>\n",
       "      <td>1666.971986</td>\n",
       "      <td>1667.821777</td>\n",
       "    </tr>\n",
       "    <tr>\n",
       "      <th>5</th>\n",
       "      <td>1666.973751</td>\n",
       "      <td>1667.760864</td>\n",
       "    </tr>\n",
       "    <tr>\n",
       "      <th>6</th>\n",
       "      <td>1666.975515</td>\n",
       "      <td>1667.697144</td>\n",
       "    </tr>\n",
       "    <tr>\n",
       "      <th>7</th>\n",
       "      <td>1666.977280</td>\n",
       "      <td>1667.636597</td>\n",
       "    </tr>\n",
       "    <tr>\n",
       "      <th>8</th>\n",
       "      <td>1666.979044</td>\n",
       "      <td>1667.607422</td>\n",
       "    </tr>\n",
       "  </tbody>\n",
       "</table>\n",
       "</div>"
      ],
      "text/plain": [
       "   Frode_Number_Original  Frode_Number_Predicted\n",
       "0            1666.964929             1668.122192\n",
       "1            1666.966693             1668.020630\n",
       "2            1666.968458             1667.937256\n",
       "3            1666.970222             1667.880859\n",
       "4            1666.971986             1667.821777\n",
       "5            1666.973751             1667.760864\n",
       "6            1666.975515             1667.697144\n",
       "7            1666.977280             1667.636597\n",
       "8            1666.979044             1667.607422"
      ]
     },
     "execution_count": 35,
     "metadata": {},
     "output_type": "execute_result"
    }
   ],
   "source": [
    "pd.DataFrame(Blast_Output)"
   ]
  },
  {
   "cell_type": "code",
   "execution_count": null,
   "id": "e3df16ff",
   "metadata": {},
   "outputs": [],
   "source": []
  }
 ],
 "metadata": {
  "kernelspec": {
   "display_name": "Python 3 (ipykernel)",
   "language": "python",
   "name": "python3"
  },
  "language_info": {
   "codemirror_mode": {
    "name": "ipython",
    "version": 3
   },
   "file_extension": ".py",
   "mimetype": "text/x-python",
   "name": "python",
   "nbconvert_exporter": "python",
   "pygments_lexer": "ipython3",
   "version": "3.9.13"
  }
 },
 "nbformat": 4,
 "nbformat_minor": 5
}
